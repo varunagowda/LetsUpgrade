{
  "nbformat": 4,
  "nbformat_minor": 0,
  "metadata": {
    "colab": {
      "name": "Assignment1",
      "provenance": []
    },
    "kernelspec": {
      "name": "python3",
      "display_name": "Python 3"
    },
    "language_info": {
      "name": "python"
    }
  },
  "cells": [
    {
      "cell_type": "code",
      "metadata": {
        "colab": {
          "base_uri": "https://localhost:8080/"
        },
        "id": "s1jhG4gP9bj8",
        "outputId": "1063e129-e248-4825-b07e-d187d0f1601d"
      },
      "source": [
        "Li=[int(i) for i in input('Enter the values:').split()]\n",
        "print(Li)\n",
        "Li.sort()\n",
        "print(Li)\n",
        "Li.reverse()\n",
        "print(Li)\n",
        "\n"
      ],
      "execution_count": 6,
      "outputs": [
        {
          "output_type": "stream",
          "text": [
            "Enter the values:12 17 8 3 20\n",
            "[12, 17, 8, 3, 20]\n",
            "[3, 8, 12, 17, 20]\n",
            "[20, 17, 12, 8, 3]\n"
          ],
          "name": "stdout"
        }
      ]
    }
  ]
}